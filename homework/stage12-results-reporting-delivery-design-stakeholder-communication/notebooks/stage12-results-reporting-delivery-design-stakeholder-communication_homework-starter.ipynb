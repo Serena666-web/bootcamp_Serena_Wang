{
 "cells": [
  {
   "cell_type": "markdown",
   "metadata": {},
   "source": [
    "# Homework Starter: Final Reporting\n",
    "\n",
    "This notebook helps you generate plots, annotate assumptions, and prepare a stakeholder-ready deliverable."
   ]
  },
  {
   "cell_type": "markdown",
   "metadata": {},
   "source": [
    "## Executive Summary\n",
    "- Baseline scenario shows steady returns with moderate volatility.\n",
    "- Imputation and outlier adjustments create small variations in return and risk.\n",
    "- Key assumptions and sensitivity analysis highlight decision risks and implications."
   ]
  },
  {
   "cell_type": "code",
   "execution_count": null,
   "metadata": {},
   "outputs": [],
   "source": [
    "import pandas as pd\n",
    "import numpy as np\n",
    "import matplotlib.pyplot as plt\n",
    "import seaborn as sns\n",
    "from pathlib import Path\n",
    "sns.set(style='whitegrid')\n",
    "plt.rcParams['figure.dpi'] = 120\n",
    "np.random.seed(101)"
   ]
  },
  {
   "cell_type": "markdown",
   "metadata": {},
   "source": [
    "## Load Your Data\n",
    "\n",
    "You can load your real results or use a generated synthetic dataset as fallback."
   ]
  },
  {
   "cell_type": "code",
   "execution_count": null,
   "metadata": {},
   "outputs": [],
   "source": [
    "data_path = Path('../data/final_results.csv')\n",
    "\n",
    "if data_path.exists():\n",
    "    df = pd.read_csv(data_path)\n",
    "else:\n",
    "    # Synthetic fallback dataset\n",
    "    df = pd.DataFrame({\n",
    "        'scenario': ['baseline','alt_impute','alt_outlier'],\n",
    "        'return': [0.12, 0.11, 0.135],\n",
    "        'volatility': [0.18, 0.185, 0.19],\n",
    "        'sharpe': [0.56, 0.49, 0.61],\n",
    "        'assumption': ['imputation','imputation','outlier_rule'],\n",
    "        'value': ['median','mean','3sigma'],\n",
    "        'Category': np.random.choice(['X','Y','Z'], 3),\n",
    "        'MetricA': np.random.normal(75, 15, 3),\n",
    "        'MetricB': np.random.normal(150, 30, 3),\n",
    "        'Date': pd.date_range('2025-02-01', periods=3)\n",
    "    })\n",
    "df.head()"
   ]
  },
  {
   "cell_type": "markdown",
   "metadata": {},
   "source": [
    "## Helper: Export Directory"
   ]
  },
  {
   "cell_type": "code",
   "execution_count": null,
   "metadata": {},
   "outputs": [],
   "source": [
    "img_dir = Path('../deliverables/images')\n",
    "img_dir.mkdir(parents=True, exist_ok=True)\n",
    "\n",
    "def savefig(name):\n",
    "    plt.tight_layout()\n",
    "    plt.savefig(img_dir / name, dpi=300)\n",
    "    print(f'Saved {name}')"
   ]
  },
  {
   "cell_type": "markdown",
   "metadata": {},
   "source": [
    "## Chart 1: Risk–Return Scatter"
   ]
  },
  {
   "cell_type": "code",
   "execution_count": null,
   "metadata": {},
   "outputs": [],
   "source": [
    "plt.figure(figsize=(7,5))\n",
    "sns.scatterplot(data=df, x='volatility', y='return', hue='scenario', s=80)\n",
    "plt.title('Risk–Return by Scenario')\n",
    "plt.xlabel('Volatility')\n",
    "plt.ylabel('Return')\n",
    "savefig('risk_return.png')\n",
    "plt.show()"
   ]
  },
  {
   "cell_type": "markdown",
   "metadata": {},
   "source": [
    "## Chart 2: Return by Scenario (Bar Chart)"
   ]
  },
  {
   "cell_type": "code",
   "execution_count": null,
   "metadata": {},
   "outputs": [],
   "source": [
    "plt.figure(figsize=(7,5))\n",
    "sns.barplot(data=df, x='scenario', y='return')\n",
    "plt.title('Return by Scenario')\n",
    "savefig('return_by_scenario.png')\n",
    "plt.show()"
   ]
  },
  {
   "cell_type": "markdown",
   "metadata": {},
   "source": [
    "## Chart 3: MetricA Over Time (Line Chart)"
   ]
  },
  {
   "cell_type": "code",
   "execution_count": null,
   "metadata": {},
   "outputs": [],
   "source": [
    "plt.figure(figsize=(7,5))\n",
    "sns.lineplot(data=df, x='Date', y='MetricA', hue='Category', marker='o')\n",
    "plt.title('MetricA Over Time by Category')\n",
    "plt.xlabel('Date')\n",
    "plt.ylabel('MetricA')\n",
    "savefig('metricA_over_time.png')\n",
    "plt.show()"
   ]
  },
  {
   "cell_type": "markdown",
   "metadata": {},
   "source": [
    "## Sensitivity Analysis / Assumptions Table"
   ]
  },
  {
   "cell_type": "code",
   "execution_count": null,
   "metadata": {},
   "outputs": [],
   "source": [
    "assumptions = pd.DataFrame({\n",
    "    'Assumption': ['Fill Nulls: Median', 'Remove Outliers: 3σ'],\n",
    "    'Baseline Return': [0.12, 0.12],\n",
    "    'Alt Scenario Return': [0.10, 0.14]\n",
    "})\n",
    "assumptions"
   ]
  },
  {
   "cell_type": "markdown",
   "metadata": {},
   "source": [
    "## Interpretations / Takeaways\n",
    "- **Chart 1 takeaway:** <fill in plain-language implication> A line chart of the target over time to visualize risk return by scenario(bigger swings day to day). Adjustment over outliers creates the highest return acompanied with the highest votality. For the baseline case, we got the lowest votality while moderate return. \n",
    "- **Chart 2 takeaway:** <fill in plain-language implication>Followed up the first chart, this graph rank the return from the lower to the highest in terms of scenario: alt_impute, baseline, alt_outliers.Imputation choice (mean vs. median) has little impact on return.\n",
    " - **Chart 3 takeaway:** <fill in plain-language implication>This is a line graph show Metric A over time by category. There's trend in Y, while X only has one point hence there's no trend along time. - Include notes on assumptions and sensitivities where relevant."
   ]
  },
  {
   "cell_type": "markdown",
   "metadata": {},
   "source": [
    "## Decision Implications\n",
    "- What does the analysis mean for stakeholder decisions?\n",
    "Pick alt_outlier if your goal is higher risk-adjusted return and you can tolerate a bit more volatility.Stick with baseline if you want smoother performance with only a small sacrifice in return. Sharpe 0.56, Return 12.0%, Volatility 18.0% (lowest).\n",
    "- Highlight risks, opportunities, and recommended next steps.\n",
    "More swings with alt_outlier: Higher vol (19%) means bigger drawdowns are possible.\n",
    "Considering tuning the outlier rule (e.g., test 2.5σ/2.0σ or winsorize at 1–2% tails) to seek even higher Sharpe with controlled vol.\n",
    "Bootstraping to mimic data.\n"
   ]
  }
 ],
 "metadata": {
  "kernelspec": {
   "display_name": "Python 3",
   "language": "python",
   "name": "python3"
  },
  "language_info": {
   "name": "python",
   "version": "3.10"
  }
 },
 "nbformat": 4,
 "nbformat_minor": 5
}
