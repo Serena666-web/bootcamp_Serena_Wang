{
 "cells": [
  {
   "cell_type": "code",
   "execution_count": 18,
   "id": "7316965d-dcc0-43e5-b7d9-d76d29b95a4c",
   "metadata": {},
   "outputs": [
    {
     "name": "stdout",
     "output_type": "stream",
     "text": [
      "Demo CSV created at data/instructor_dirty.csv\n"
     ]
    }
   ],
   "source": [
    "# Using the dataset from the lecture\n",
    "import os\n",
    "import pandas as pd\n",
    "from cleaning import fill_missing_median, drop_missing, normalize_data\n",
    "import pandas as pd\n",
    "import numpy as np\n",
    "\n",
    "csv_path = 'data/instructor_dirty.csv'\n",
    "os.makedirs('data', exist_ok=True)\n",
    "\n",
    "if not os.path.exists(csv_path):\n",
    "    df_demo = pd.DataFrame({\n",
    "        'numeric_col': [10, None, 40, 55, 70],\n",
    "        'category_col': ['A', 'B', 'A', 'B', 'C'],\n",
    "        'price': ['$100', '$200', '$150', None, '$250'],\n",
    "        'date_str': ['2025-08-01','2025-08-02',None,'2025-08-04','2025-08-05'],\n",
    "        'category': ['Electronics','Furniture','Toys','Clothing',None]\n",
    "    })\n",
    "    df_demo.to_csv(csv_path, index=False)\n",
    "    print(f\"Demo CSV created at {csv_path}\")\n",
    "else:\n",
    "    print(f\"CSV already exists at {csv_path}\")\n",
    "df = pd.read_csv(\"data/instructor_dirty.csv\")"
   ]
  },
  {
   "cell_type": "code",
   "execution_count": 16,
   "id": "aaa359c5-5ae3-44fc-9540-2043f6a44174",
   "metadata": {},
   "outputs": [],
   "source": [
    "%reload_ext autoreload\n",
    "df_cleaned = df.copy()\n",
    "df_cleaned = fill_missing_median(df_cleaned)\n",
    "df_cleaned = drop_missing(df_cleaned, threshold=0.5)\n",
    "df_cleaned = normalize_data(df_cleaned)\n",
    "df_cleaned.to_csv('data/processed/combined_cleaned_data.csv', index=False)\n"
   ]
  },
  {
   "cell_type": "code",
   "execution_count": null,
   "id": "c95a9368-5db5-4fb0-a860-be80a565bbfc",
   "metadata": {},
   "outputs": [],
   "source": []
  },
  {
   "cell_type": "code",
   "execution_count": null,
   "id": "d5e4efc8-56ee-4a0b-9d7f-7a1eef42e75f",
   "metadata": {},
   "outputs": [],
   "source": []
  },
  {
   "cell_type": "code",
   "execution_count": null,
   "id": "c5086da0-e46e-474b-b3a0-2dbc272bddaf",
   "metadata": {},
   "outputs": [],
   "source": []
  },
  {
   "cell_type": "code",
   "execution_count": null,
   "id": "3e9ca8b2-c5d8-437a-8267-4851147ce9ba",
   "metadata": {},
   "outputs": [],
   "source": []
  }
 ],
 "metadata": {
  "kernelspec": {
   "display_name": "Python 3 (ipykernel)",
   "language": "python",
   "name": "python3"
  },
  "language_info": {
   "codemirror_mode": {
    "name": "ipython",
    "version": 3
   },
   "file_extension": ".py",
   "mimetype": "text/x-python",
   "name": "python",
   "nbconvert_exporter": "python",
   "pygments_lexer": "ipython3",
   "version": "3.11.13"
  }
 },
 "nbformat": 4,
 "nbformat_minor": 5
}
