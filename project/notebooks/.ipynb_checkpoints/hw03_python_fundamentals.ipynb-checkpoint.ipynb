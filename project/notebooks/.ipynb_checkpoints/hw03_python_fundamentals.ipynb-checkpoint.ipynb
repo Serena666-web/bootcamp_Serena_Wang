{
 "cells": [
  {
   "cell_type": "code",
   "execution_count": 7,
   "id": "45dfffea-d057-431e-80c9-aeceac89ac94",
   "metadata": {},
   "outputs": [
    {
     "name": "stdout",
     "output_type": "stream",
     "text": [
      "a*2 is  [12 12 12 12]\n",
      "The sum is [50 50 50 50]\n",
      "The sum is [50 50 50 50]\n"
     ]
    }
   ],
   "source": [
    "#1. NumPy Operations\n",
    "import numpy as np\n",
    "a = np.array([6, 6, 6, 6])\n",
    "print(\"a*2 is \", a*2)\n",
    "# loop\n",
    "sum = []\n",
    "for i in a:\n",
    "    sum.append(i*2 + i**2 +2)\n",
    "sum = np.array(sum)\n",
    "print(\"The sum is\", sum)\n",
    "# Vectorized\n",
    "print(\"The sum is\", a*2 + a**2 +2)\n",
    "\n",
    "#Vectorized Execution is faster and more user friendly"
   ]
  },
  {
   "cell_type": "code",
   "execution_count": 11,
   "id": "4ebf187d-3725-4598-9a54-42df4d58d559",
   "metadata": {},
   "outputs": [
    {
     "name": "stdout",
     "output_type": "stream",
     "text": [
      "Data info: \n",
      "<class 'pandas.core.frame.DataFrame'>\n",
      "RangeIndex: 10 entries, 0 to 9\n",
      "Data columns (total 3 columns):\n",
      " #   Column    Non-Null Count  Dtype \n",
      "---  ------    --------------  ----- \n",
      " 0   category  10 non-null     object\n",
      " 1   value     10 non-null     int64 \n",
      " 2   date      10 non-null     object\n",
      "dtypes: int64(1), object(2)\n",
      "memory usage: 372.0+ bytes\n",
      "None\n",
      "Data dead: \n",
      "    category  value        date\n",
      "0        A     10  2025-08-01\n",
      "1        B     15  2025-08-02\n",
      "2        A     12  2025-08-03\n",
      "3        B     18  2025-08-04\n",
      "4        C     25  2025-08-05\n"
     ]
    }
   ],
   "source": [
    "#2. Dataset Loading\n",
    "import pandas as pd\n",
    "data = pd.read_csv(\"../data/starter_data.csv\")\n",
    "print(\"Data info: \")\n",
    "print(data.info())\n",
    "print(\"Data head: \\n \", data.head())"
   ]
  },
  {
   "cell_type": "code",
   "execution_count": 24,
   "id": "a54a103c-d6e3-44fb-a543-4317004e00a3",
   "metadata": {},
   "outputs": [
    {
     "name": "stdout",
     "output_type": "stream",
     "text": [
      "Data numeric columns: \n",
      "           value\n",
      "count  10.000000\n",
      "mean   17.600000\n",
      "std     7.381659\n",
      "min    10.000000\n",
      "25%    12.250000\n",
      "50%    14.500000\n",
      "75%    23.250000\n",
      "max    30.000000\n",
      "Data aggregation by category(count): \n",
      "category\n",
      "A    4\n",
      "B    3\n",
      "C    3\n",
      "Name: value, dtype: int64\n",
      "Data aggregation by category(mean): \n",
      "category\n",
      "A    11.500000\n",
      "B    15.666667\n",
      "C    27.666667\n",
      "Name: value, dtype: float64\n"
     ]
    }
   ],
   "source": [
    "#3&4. Summary Statistics\n",
    "import os\n",
    "import pandas as pd\n",
    "data = pd.read_csv(\"../data/starter_data.csv\")\n",
    "print(\"Data numeric columns: \")\n",
    "print(data.describe())\n",
    "print(\"Data aggregation by category(count): \")\n",
    "print(data.groupby(\"category\")[\"value\"].count())\n",
    "print(\"Data aggregation by category(mean): \")\n",
    "print(data.groupby(\"category\")[\"value\"].mean())\n",
    "\n",
    "os.makedirs(\"../data/processed\", exist_ok=True)\n",
    "summary_stats = data.describe()\n",
    "agg_stats = data.groupby(\"category\")[\"value\"].mean()\n",
    "summary_stats.to_csv(\"../data/processed/summary.csv\")\n",
    "agg_stats.to_csv(\"../data/processed/agg_by_category.csv\")"
   ]
  },
  {
   "cell_type": "code",
   "execution_count": null,
   "id": "7ab0c46a-c6cf-4330-8196-f6ce78ff780c",
   "metadata": {},
   "outputs": [],
   "source": []
  },
  {
   "cell_type": "code",
   "execution_count": null,
   "id": "be25011c-9410-4912-84af-86cebe0d46d5",
   "metadata": {},
   "outputs": [],
   "source": []
  }
 ],
 "metadata": {
  "kernelspec": {
   "display_name": "Python 3 (ipykernel)",
   "language": "python",
   "name": "python3"
  },
  "language_info": {
   "codemirror_mode": {
    "name": "ipython",
    "version": 3
   },
   "file_extension": ".py",
   "mimetype": "text/x-python",
   "name": "python",
   "nbconvert_exporter": "python",
   "pygments_lexer": "ipython3",
   "version": "3.13.5"
  }
 },
 "nbformat": 4,
 "nbformat_minor": 5
}
