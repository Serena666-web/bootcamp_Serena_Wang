{
 "cells": [
  {
   "cell_type": "code",
   "execution_count": 1,
   "id": "9564aa28-8d30-48f5-ba33-1870d77e6c1e",
   "metadata": {},
   "outputs": [
    {
     "name": "stdout",
     "output_type": "stream",
     "text": [
      "API_KEY:  True\n"
     ]
    }
   ],
   "source": [
    "# Environment & Config Check\n",
    "import os\n",
    "from dotenv import load_dotenv\n",
    "load_dotenv()  \n",
    "print(\"API_KEY: \", \"API_KEY\" in os.environ)\n"
   ]
  },
  {
   "cell_type": "code",
   "execution_count": 2,
   "id": "a41c0a57-da65-49bd-b1f9-6ec53aa2191e",
   "metadata": {},
   "outputs": [
    {
     "name": "stdout",
     "output_type": "stream",
     "text": [
      "API_KEY via helper: dummy_key_123\n",
      "a*2: [12 12 12 12]\n"
     ]
    }
   ],
   "source": [
    "import sys, os\n",
    "sys.path.append(os.path.abspath(\"../src\")) \n",
    "\n",
    "from config import load_env, get_key\n",
    "import numpy as np\n",
    "\n",
    "load_env()\n",
    "print(\"API_KEY via helper:\", get_key(\"API_KEY\"))\n",
    "\n",
    "a = np.array([6,6,6,6])\n",
    "print(\"a*2:\", a*2)\n"
   ]
  },
  {
   "cell_type": "code",
   "execution_count": null,
   "id": "f19ca42e-66c6-4978-8c5f-b595f387677c",
   "metadata": {},
   "outputs": [],
   "source": []
  },
  {
   "cell_type": "code",
   "execution_count": null,
   "id": "2ab7653c-dd27-4724-b3db-cc1f4659dca1",
   "metadata": {},
   "outputs": [],
   "source": []
  }
 ],
 "metadata": {
  "kernelspec": {
   "display_name": "Python 3 (ipykernel)",
   "language": "python",
   "name": "python3"
  },
  "language_info": {
   "codemirror_mode": {
    "name": "ipython",
    "version": 3
   },
   "file_extension": ".py",
   "mimetype": "text/x-python",
   "name": "python",
   "nbconvert_exporter": "python",
   "pygments_lexer": "ipython3",
   "version": "3.13.5"
  }
 },
 "nbformat": 4,
 "nbformat_minor": 5
}
