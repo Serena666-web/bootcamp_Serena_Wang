{
 "cells": [
  {
   "cell_type": "code",
   "execution_count": 7,
   "id": "45dfffea-d057-431e-80c9-aeceac89ac94",
   "metadata": {},
   "outputs": [
    {
     "name": "stdout",
     "output_type": "stream",
     "text": [
      "a*2 is  [12 12 12 12]\n",
      "The sum is [50 50 50 50]\n",
      "The sum is [50 50 50 50]\n"
     ]
    }
   ],
   "source": [
    "#1. NumPy Operations\n",
    "import numpy as np\n",
    "a = np.array([6, 6, 6, 6])\n",
    "print(\"a*2 is \", a*2)\n",
    "# loop\n",
    "sum = []\n",
    "for i in a:\n",
    "    sum.append(i*2 + i**2 +2)\n",
    "sum = np.array(sum)\n",
    "print(\"The sum is\", sum)\n",
    "# Vectorized\n",
    "print(\"The sum is\", a*2 + a**2 +2)\n",
    "\n",
    "#Vectorized Execution is faster and more user friendly"
   ]
  },
  {
   "cell_type": "code",
   "execution_count": 11,
   "id": "4ebf187d-3725-4598-9a54-42df4d58d559",
   "metadata": {},
   "outputs": [
    {
     "name": "stdout",
     "output_type": "stream",
     "text": [
      "Data info: \n",
      "<class 'pandas.core.frame.DataFrame'>\n",
      "RangeIndex: 10 entries, 0 to 9\n",
      "Data columns (total 3 columns):\n",
      " #   Column    Non-Null Count  Dtype \n",
      "---  ------    --------------  ----- \n",
      " 0   category  10 non-null     object\n",
      " 1   value     10 non-null     int64 \n",
      " 2   date      10 non-null     object\n",
      "dtypes: int64(1), object(2)\n",
      "memory usage: 372.0+ bytes\n",
      "None\n",
      "Data dead: \n",
      "    category  value        date\n",
      "0        A     10  2025-08-01\n",
      "1        B     15  2025-08-02\n",
      "2        A     12  2025-08-03\n",
      "3        B     18  2025-08-04\n",
      "4        C     25  2025-08-05\n"
     ]
    }
   ],
   "source": [
    "#2. Dataset Loading\n",
    "import pandas as pd\n",
    "data = pd.read_csv(\"../data/starter_data.csv\")\n",
    "print(\"Data info: \")\n",
    "print(data.info())\n",
    "print(\"Data head: \\n \", data.head())"
   ]
  },
  {
   "cell_type": "code",
   "execution_count": 32,
   "id": "a54a103c-d6e3-44fb-a543-4317004e00a3",
   "metadata": {},
   "outputs": [
    {
     "name": "stdout",
     "output_type": "stream",
     "text": [
      "Requirement already satisfied: matplotlib in /opt/miniconda3/lib/python3.13/site-packages (3.10.5)\n",
      "Requirement already satisfied: contourpy>=1.0.1 in /opt/miniconda3/lib/python3.13/site-packages (from matplotlib) (1.3.3)\n",
      "Requirement already satisfied: cycler>=0.10 in /opt/miniconda3/lib/python3.13/site-packages (from matplotlib) (0.12.1)\n",
      "Requirement already satisfied: fonttools>=4.22.0 in /opt/miniconda3/lib/python3.13/site-packages (from matplotlib) (4.59.1)\n",
      "Requirement already satisfied: kiwisolver>=1.3.1 in /opt/miniconda3/lib/python3.13/site-packages (from matplotlib) (1.4.9)\n",
      "Requirement already satisfied: numpy>=1.23 in /opt/miniconda3/lib/python3.13/site-packages (from matplotlib) (2.3.2)\n",
      "Requirement already satisfied: packaging>=20.0 in /opt/miniconda3/lib/python3.13/site-packages (from matplotlib) (24.2)\n",
      "Requirement already satisfied: pillow>=8 in /opt/miniconda3/lib/python3.13/site-packages (from matplotlib) (11.3.0)\n",
      "Requirement already satisfied: pyparsing>=2.3.1 in /opt/miniconda3/lib/python3.13/site-packages (from matplotlib) (3.2.3)\n",
      "Requirement already satisfied: python-dateutil>=2.7 in /opt/miniconda3/lib/python3.13/site-packages (from matplotlib) (2.9.0.post0)\n",
      "Requirement already satisfied: six>=1.5 in /opt/miniconda3/lib/python3.13/site-packages (from python-dateutil>=2.7->matplotlib) (1.17.0)\n",
      "Data numeric columns: \n",
      "           value\n",
      "count  10.000000\n",
      "mean   17.600000\n",
      "std     7.381659\n",
      "min    10.000000\n",
      "25%    12.250000\n",
      "50%    14.500000\n",
      "75%    23.250000\n",
      "max    30.000000\n",
      "Data aggregation by category(count): \n",
      "category\n",
      "A    4\n",
      "B    3\n",
      "C    3\n",
      "Name: value, dtype: int64\n",
      "Data aggregation by category(mean): \n",
      "category\n",
      "A    11.500000\n",
      "B    15.666667\n",
      "C    27.666667\n",
      "Name: value, dtype: float64\n"
     ]
    },
    {
     "data": {
      "image/png": "[encoded data removed]",
      "text/plain": [
       "<Figure size 600x400 with 1 Axes>"
      ]
     },
     "metadata": {},
     "output_type": "display_data"
    }
   ],
   "source": [
    "#3&4. Summary Statistics\n",
    "!pip install matplotlib\n",
    "import matplotlib.pyplot as plt\n",
    "import os\n",
    "import pandas as pd\n",
    "data = pd.read_csv(\"../data/starter_data.csv\")\n",
    "print(\"Data numeric columns: \")\n",
    "print(data.describe())\n",
    "print(\"Data aggregation by category(count): \")\n",
    "print(data.groupby(\"category\")[\"value\"].count())\n",
    "print(\"Data aggregation by category(mean): \")\n",
    "print(data.groupby(\"category\")[\"value\"].mean())\n",
    "\n",
    "os.makedirs(\"../data/processed\", exist_ok=True)\n",
    "summary_stats = data.describe()\n",
    "agg_stats = data.groupby(\"category\")[\"value\"].mean()\n",
    "summary_stats.to_csv(\"../data/processed/summary1.csv\")\n",
    "agg_stats.to_csv(\"../data/processed/summary2.csv\")\n",
    "#Plot\n",
    "plt.figure(figsize=(6,4))\n",
    "agg_stats.plot(kind=\"bar\")\n",
    "plt.title(\"Average Value by Category\")\n",
    "plt.xlabel(\"Category\")\n",
    "plt.xticks(rotation=0)\n",
    "plt.ylabel(\"Average Value\")\n",
    "plt.tight_layout()\n",
    "plt.savefig(\"../data/processed/plot.png\")"
   ]
  },
  {
   "cell_type": "code",
   "execution_count": 33,
   "id": "7ab0c46a-c6cf-4330-8196-f6ce78ff780c",
   "metadata": {},
   "outputs": [
    {
     "name": "stdout",
     "output_type": "stream",
     "text": [
      "Summary stats:\n",
      "           value\n",
      "count  10.000000\n",
      "mean   17.600000\n",
      "std     7.381659\n",
      "min    10.000000\n",
      "25%    12.250000\n",
      "50%    14.500000\n",
      "75%    23.250000\n",
      "max    30.000000\n",
      "\n",
      "Category stats:\n",
      "               mean  sum  count\n",
      "category                       \n",
      "A         11.500000   46      4\n",
      "B         15.666667   47      3\n",
      "C         27.666667   83      3\n"
     ]
    }
   ],
   "source": [
    "# 5.Utils\n",
    "import pandas as pd\n",
    "import sys\n",
    "import os\n",
    "data = pd.read_csv(\"../data/starter_data.csv\")\n",
    "sys.path.append(os.path.abspath(\"../src\"))\n",
    "from utils import get_summary_stats\n",
    "stats = get_summary_stats(data)\n",
    "print(\"Summary stats:\")\n",
    "print(stats[\"summary\"])\n",
    "\n",
    "print(\"\\nCategory stats:\")\n",
    "print(stats[\"category_stats\"])"
   ]
  },
  {
   "cell_type": "code",
   "execution_count": null,
   "id": "be25011c-9410-4912-84af-86cebe0d46d5",
   "metadata": {},
   "outputs": [],
   "source": []
  }
 ],
 "metadata": {
  "kernelspec": {
   "display_name": "Python 3 (ipykernel)",
   "language": "python",
   "name": "python3"
  },
  "language_info": {
   "codemirror_mode": {
    "name": "ipython",
    "version": 3
   },
   "file_extension": ".py",
   "mimetype": "text/x-python",
   "name": "python",
   "nbconvert_exporter": "python",
   "pygments_lexer": "ipython3",
   "version": "3.13.5"
  }
 },
 "nbformat": 4,
 "nbformat_minor": 5
}
